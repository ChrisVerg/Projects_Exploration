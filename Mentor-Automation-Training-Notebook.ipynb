{
 "cells": [
  {
   "cell_type": "markdown",
   "id": "f2ee4bbe-6335-492a-b13b-7c0a6c09a2d1",
   "metadata": {},
   "source": [
    "<h2>Step 1:</h2>\n",
    "<h3>Windows Users:</h3>\n",
    "choco install selenium-chrome-driver\n",
    "    \n",
    "<h3>Mac Users:</h3>\n",
    "brew install --cask chromedrive\n",
    "\n",
    "---\n",
    "\n",
    "<h2>Step 2:</h2>\n",
    "pip install selenium\n",
    "\n",
    "---\n",
    "\n",
    "<h2>Step 3:</h2>\n",
    "Import Necessary Packages "
   ]
  },
  {
   "cell_type": "code",
   "execution_count": 1,
   "id": "6d6455d4-d46d-4791-8d51-dd7f4b37c428",
   "metadata": {},
   "outputs": [
    {
     "name": "stdout",
     "output_type": "stream",
     "text": [
      "Requirement already satisfied: selenium in c:\\python3\\lib\\site-packages (4.9.1)Note: you may need to restart the kernel to use updated packages.\n",
      "\n",
      "Requirement already satisfied: urllib3[socks]<3,>=1.26 in c:\\python3\\lib\\site-packages (from selenium) (1.26.12)\n",
      "Requirement already satisfied: trio~=0.17 in c:\\python3\\lib\\site-packages (from selenium) (0.22.0)\n",
      "Requirement already satisfied: trio-websocket~=0.9 in c:\\python3\\lib\\site-packages (from selenium) (0.10.2)\n",
      "Requirement already satisfied: certifi>=2021.10.8 in c:\\python3\\lib\\site-packages (from selenium) (2022.9.24)\n",
      "Requirement already satisfied: attrs>=19.2.0 in c:\\python3\\lib\\site-packages (from trio~=0.17->selenium) (22.1.0)\n",
      "Requirement already satisfied: sortedcontainers in c:\\python3\\lib\\site-packages (from trio~=0.17->selenium) (2.4.0)\n",
      "Requirement already satisfied: async-generator>=1.9 in c:\\python3\\lib\\site-packages (from trio~=0.17->selenium) (1.10)\n",
      "Requirement already satisfied: idna in c:\\python3\\lib\\site-packages (from trio~=0.17->selenium) (3.4)\n",
      "Requirement already satisfied: outcome in c:\\python3\\lib\\site-packages (from trio~=0.17->selenium) (1.2.0)\n",
      "Requirement already satisfied: sniffio in c:\\python3\\lib\\site-packages (from trio~=0.17->selenium) (1.3.0)\n",
      "Requirement already satisfied: cffi>=1.14 in c:\\python3\\lib\\site-packages (from trio~=0.17->selenium) (1.15.1)\n",
      "Requirement already satisfied: exceptiongroup in c:\\python3\\lib\\site-packages (from trio-websocket~=0.9->selenium) (1.1.1)\n",
      "Requirement already satisfied: wsproto>=0.14 in c:\\python3\\lib\\site-packages (from trio-websocket~=0.9->selenium) (1.2.0)\n",
      "Requirement already satisfied: PySocks!=1.5.7,<2.0,>=1.5.6 in c:\\python3\\lib\\site-packages (from urllib3[socks]<3,>=1.26->selenium) (1.7.1)\n",
      "Requirement already satisfied: pycparser in c:\\python3\\lib\\site-packages (from cffi>=1.14->trio~=0.17->selenium) (2.21)\n",
      "Requirement already satisfied: h11<1,>=0.9.0 in c:\\python3\\lib\\site-packages (from wsproto>=0.14->trio-websocket~=0.9->selenium) (0.14.0)\n"
     ]
    }
   ],
   "source": [
    "pip install selenium"
   ]
  },
  {
   "cell_type": "code",
   "execution_count": 2,
   "id": "c0e3119d-77b1-432f-b913-70ce0ef10c77",
   "metadata": {},
   "outputs": [
    {
     "name": "stdout",
     "output_type": "stream",
     "text": [
      "Requirement already satisfied: webdriver_manager in c:\\python3\\lib\\site-packages (3.8.6)Note: you may need to restart the kernel to use updated packages.\n",
      "\n",
      "Requirement already satisfied: requests in c:\\python3\\lib\\site-packages (from webdriver_manager) (2.28.1)\n",
      "Requirement already satisfied: python-dotenv in c:\\python3\\lib\\site-packages (from webdriver_manager) (1.0.0)\n",
      "Requirement already satisfied: tqdm in c:\\python3\\lib\\site-packages (from webdriver_manager) (4.65.0)\n",
      "Requirement already satisfied: packaging in c:\\python3\\lib\\site-packages (from webdriver_manager) (21.3)\n",
      "Requirement already satisfied: pyparsing!=3.0.5,>=2.0.2 in c:\\python3\\lib\\site-packages (from packaging->webdriver_manager) (3.0.9)\n",
      "Requirement already satisfied: charset-normalizer<3,>=2 in c:\\python3\\lib\\site-packages (from requests->webdriver_manager) (2.1.1)\n",
      "Requirement already satisfied: idna<4,>=2.5 in c:\\python3\\lib\\site-packages (from requests->webdriver_manager) (3.4)\n",
      "Requirement already satisfied: urllib3<1.27,>=1.21.1 in c:\\python3\\lib\\site-packages (from requests->webdriver_manager) (1.26.12)\n",
      "Requirement already satisfied: certifi>=2017.4.17 in c:\\python3\\lib\\site-packages (from requests->webdriver_manager) (2022.9.24)\n",
      "Requirement already satisfied: colorama in c:\\python3\\lib\\site-packages (from tqdm->webdriver_manager) (0.4.6)\n"
     ]
    }
   ],
   "source": [
    "pip install webdriver_manager"
   ]
  },
  {
   "cell_type": "code",
   "execution_count": 3,
   "id": "2d8710a8-5986-493b-ad02-ba5d4bcf1b5e",
   "metadata": {},
   "outputs": [],
   "source": [
    "import os \n",
    "import time\n",
    "\n",
    "from webdriver_manager.chrome import ChromeDriverManager\n",
    "from selenium import webdriver\n",
    "from selenium.webdriver.support.ui import WebDriverWait\n",
    "from selenium.webdriver.chrome.service import Service\n",
    "from selenium.webdriver.chrome.options import Options\n",
    "from selenium.webdriver.common.action_chains import ActionChains\n",
    "from selenium.webdriver.common.by import By\n",
    "from selenium.webdriver.common.keys import Keys\n",
    "\n",
    "options = Options()\n",
    "options.add_argument(\"start-maximized\")"
   ]
  },
  {
   "cell_type": "code",
   "execution_count": 4,
   "id": "eedf9122-bbf5-42dd-9ee3-6d4764f7868c",
   "metadata": {},
   "outputs": [],
   "source": [
    "driver = webdriver.Chrome(service=Service(ChromeDriverManager().install()), options=options)\n",
    "actions = ActionChains(driver)\n",
    "driver.get(\"https://google.com/\")"
   ]
  },
  {
   "cell_type": "code",
   "execution_count": 5,
   "id": "760aeb94-10b0-43f5-a78c-17bde5e34bc1",
   "metadata": {},
   "outputs": [],
   "source": [
    "wait = WebDriverWait(driver, 10)\n",
    "\n",
    "element = driver.find_element(By.ID, \"APjFqb\")\n",
    "\n",
    "element.send_keys(\"Dog\", Keys.RETURN)"
   ]
  },
  {
   "cell_type": "code",
   "execution_count": 6,
   "id": "48e520b1-d4f0-4377-bd77-cc11169d22e7",
   "metadata": {},
   "outputs": [],
   "source": [
    "#time.sleep(5)\n",
    "#driver.quit()"
   ]
  },
  {
   "cell_type": "code",
   "execution_count": null,
   "id": "a8467665-6572-410f-8c5a-d81edea34382",
   "metadata": {},
   "outputs": [],
   "source": []
  },
  {
   "cell_type": "code",
   "execution_count": null,
   "id": "a78ba2f2-e0c4-4851-b8fc-9ef2a7bd8170",
   "metadata": {},
   "outputs": [],
   "source": [
    "def append_data_to_csv(url):\n",
    "    file_path = \"../Data/ConsolidatedHeadlines_CV.csv\"\n",
    "\n",
    "    # Fetch the data from the URL\n",
    "    page = requests.get(url)\n",
    "    soup = BeautifulSoup(page.content, \"html.parser\")\n",
    "\n",
    "    # Extract the headlines\n",
    "    headlines = set()\n",
    "    for headline in soup.find_all('div', class_=\"FeaturedCard-contentText\"):\n",
    "        links = headline.find_all(\"a\")\n",
    "        for link in links:\n",
    "            headlines.add(link.text.strip())\n",
    "\n",
    "    for headline in soup.find_all('div', class_=\"SecondaryCard-headline\"):\n",
    "        links = headline.find_all(\"a\")\n",
    "        for link in links:\n",
    "            headlines.add(link.text.strip())\n",
    "\n",
    "    for headline in soup.find_all('div', class_=\"LatestNews-headlineWrapper\"):\n",
    "        links = headline.find_all(\"a\")\n",
    "        for link in links:\n",
    "            headlines.add(link.text.strip())\n",
    "\n",
    "    # Process the headlines\n",
    "    processed_headlines = [preprocess_data(headline) for headline in headlines]\n",
    "\n",
    "    # Append the data to the CSV file\n",
    "    with open(file_path, \"a\", newline=\"\") as file:\n",
    "        writer = csv.writer(file)\n",
    "\n",
    "        # Check for duplicates before writing\n",
    "        existing_headlines = set()\n",
    "        try:\n",
    "            with open(file_path, \"r\") as existing_file:\n",
    "                existing_data = csv.reader(existing_file)\n",
    "                for row in existing_data:\n",
    "                    existing_headlines.update(row)\n",
    "        except FileNotFoundError:\n",
    "            pass\n",
    "\n",
    "        new_headlines = set(processed_headlines) - set(existing_headlines)\n",
    "        if new_headlines:\n",
    "            writer.writerow(new_headlines)\n"
   ]
  }
 ],
 "metadata": {
  "kernelspec": {
   "display_name": "Python 3 (ipykernel)",
   "language": "python",
   "name": "python3"
  },
  "language_info": {
   "codemirror_mode": {
    "name": "ipython",
    "version": 3
   },
   "file_extension": ".py",
   "mimetype": "text/x-python",
   "name": "python",
   "nbconvert_exporter": "python",
   "pygments_lexer": "ipython3",
   "version": "3.11.2"
  }
 },
 "nbformat": 4,
 "nbformat_minor": 5
}
