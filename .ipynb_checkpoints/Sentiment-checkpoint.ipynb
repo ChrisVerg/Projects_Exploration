{
 "cells": [
  {
   "cell_type": "code",
   "execution_count": null,
   "id": "08da4900-8c97-4797-97c6-4f1b98aa013c",
   "metadata": {},
   "outputs": [],
   "source": [
    "from sklearn.feature_extraction.text import TfidfVectorizer\n",
    "from sklearn.model_selection import train_test_split\n",
    "from sklearn.linear_model import LogisticRegression\n",
    "from sklearn.metrics import accuracy_score\n",
    "\n",
    "# Step 1: Data Preprocessing\n",
    "labeled_data = pd.read_csv('labeled_data.csv')  # Replace with the path to your labeled dataset\n",
    "X = labeled_data['text']\n",
    "y = labeled_data['sentiment']\n",
    "\n",
    "# Step 2: Feature Extraction\n",
    "vectorizer = TfidfVectorizer()\n",
    "X_vectorized = vectorizer.fit_transform(X)\n",
    "\n",
    "# Step 3: Model Training\n",
    "X_train, X_val, y_train, y_val = train_test_split(X_vectorized, y, test_size=0.2, random_state=42)\n",
    "model = LogisticRegression()\n",
    "model.fit(X_train, y_train)\n",
    "\n",
    "# Step 4: Model Evaluation\n",
    "y_val_pred = model.predict(X_val)\n",
    "accuracy = accuracy_score(y_val, y_val_pred)\n",
    "print(\"Validation Accuracy:\", accuracy)\n"
   ]
  }
 ],
 "metadata": {
  "kernelspec": {
   "display_name": "Python 3 (ipykernel)",
   "language": "python",
   "name": "python3"
  },
  "language_info": {
   "codemirror_mode": {
    "name": "ipython",
    "version": 3
   },
   "file_extension": ".py",
   "mimetype": "text/x-python",
   "name": "python",
   "nbconvert_exporter": "python",
   "pygments_lexer": "ipython3",
   "version": "3.11.3"
  }
 },
 "nbformat": 4,
 "nbformat_minor": 5
}
